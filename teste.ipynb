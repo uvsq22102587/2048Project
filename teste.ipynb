{
 "cells": [
  {
   "cell_type": "code",
   "execution_count": 17,
   "metadata": {},
   "outputs": [],
   "source": [
    "import tkinter as tk\n",
    "racine = tk.Tk()\n",
    "canvas = tk.Canvas(racine, width=500, height=500)\n",
    "canvas.grid(row=1, column=1, columnspan=4)\n",
    "\n",
    "def mafonction2(event): \n",
    "    canvas.create_rectangle(0, 0, 100, 100, fill=\"red\")\n",
    "\n",
    "fleche_haut = racine.bind(\"<KeyPress-Up>\", mafonction2)\n",
    "\n",
    "racine.mainloop()"
   ]
  }
 ],
 "metadata": {
  "interpreter": {
   "hash": "6d567dfd69a1a83b39a791dc85aec464c9c8e29306a9984e54204631ace55bfd"
  },
  "kernelspec": {
   "display_name": "Python 3.9.7 ('l1-python')",
   "language": "python",
   "name": "python3"
  },
  "language_info": {
   "codemirror_mode": {
    "name": "ipython",
    "version": 3
   },
   "file_extension": ".py",
   "mimetype": "text/x-python",
   "name": "python",
   "nbconvert_exporter": "python",
   "pygments_lexer": "ipython3",
   "version": "3.9.7"
  },
  "orig_nbformat": 4
 },
 "nbformat": 4,
 "nbformat_minor": 2
}
